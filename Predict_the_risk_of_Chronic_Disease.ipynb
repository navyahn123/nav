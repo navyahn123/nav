{
  "nbformat": 4,
  "nbformat_minor": 0,
  "metadata": {
    "colab": {
      "private_outputs": true,
      "provenance": [],
      "collapsed_sections": [],
      "include_colab_link": true
    },
    "kernelspec": {
      "name": "python3",
      "display_name": "Python 3"
    },
    "language_info": {
      "name": "python"
    }
  },
  "cells": [
    {
      "cell_type": "markdown",
      "metadata": {
        "id": "view-in-github",
        "colab_type": "text"
      },
      "source": [
        "<a href=\"https://colab.research.google.com/github/navyahn123/nav/blob/main/Predict_the_risk_of_Chronic_Disease.ipynb\" target=\"_parent\"><img src=\"https://colab.research.google.com/assets/colab-badge.svg\" alt=\"Open In Colab\"/></a>"
      ]
    },
    {
      "cell_type": "code",
      "execution_count": null,
      "metadata": {
        "id": "AlJoXtYjcNLY"
      },
      "outputs": [],
      "source": [
        "import numpy as np\n",
        "import pandas as pd\n",
        "import seaborn as sns\n",
        "import matplotlib.pyplot as plt\n",
        "from sklearn.model_selection import train_test_split, GridSearchCV\n",
        "from sklearn.metrics import roc_curve, auc, confusion_matrix, classification_report,accuracy_score\n",
        "from sklearn.ensemble import RandomForestClassifier\n",
        "import warnings\n",
        "warnings.filterwarnings('ignore')\n",
        "%matplotlib inline\n",
        "\n",
        "def auc_scorer(clf, X, y, model): # Helper function to plot the ROC curve\n",
        "    if model=='RF':\n",
        "        fpr, tpr, _ = roc_curve(y, clf.predict_proba(X)[:,1])\n",
        "    elif model=='SVM':\n",
        "        fpr, tpr, _ = roc_curve(y, clf.decision_function(X))\n",
        "    roc_auc = auc(fpr, tpr)\n",
        "\n",
        "    plt.figure()    # Plot the ROC curve\n",
        "    plt.plot(fpr, tpr, label='ROC curve from '+model+' model (area = %0.3f)' % roc_auc)\n",
        "    plt.plot([0, 1], [0, 1], 'k--')\n",
        "    plt.xlim([0.0, 1.0])\n",
        "    plt.ylim([0.0, 1.05])\n",
        "    plt.xlabel('False Positive Rate')\n",
        "    plt.ylabel('True Positive Rate')\n",
        "    plt.title('ROC Curve')\n",
        "    plt.legend(loc=\"lower right\")\n",
        "    plt.show()\n",
        "\n",
        "    return fpr,tpr,roc_auc"
      ]
    },
    {
      "cell_type": "markdown",
      "source": [],
      "metadata": {
        "id": "VCjDW_YNal7T"
      }
    },
    {
      "cell_type": "code",
      "source": [
        "df = pd.read_csv('/content/drive/MyDrive/1GA19CS092 (1)/kidney_disease.csv')"
      ],
      "metadata": {
        "id": "5L3U9mG3cifK"
      },
      "execution_count": null,
      "outputs": []
    },
    {
      "cell_type": "code",
      "source": [
        "df[['htn','dm','cad','pe','ane']] = df[['htn','dm','cad','pe','ane']].replace(to_replace={'yes':1,'no':0})\n",
        "df[['rbc','pc']] = df[['rbc','pc']].replace(to_replace={'abnormal':1,'normal':0})\n",
        "df[['pcc','ba']] = df[['pcc','ba']].replace(to_replace={'present':1,'notpresent':0})\n",
        "df[['appet']] = df[['appet']].replace(to_replace={'good':1,'poor':0,'no':np.nan})\n",
        "df['classification'] = df['classification'].replace(to_replace={'ckd':1.0,'ckd\\t':1.0,'notckd':0.0,'no':0.0})\n",
        "df.rename(columns={'classification':'class'},inplace=True)"
      ],
      "metadata": {
        "id": "j4YLxB5Vd4Y5"
      },
      "execution_count": null,
      "outputs": []
    },
    {
      "cell_type": "code",
      "source": [
        "df['pe'] = df['pe'].replace(to_replace='good',value=0) # Not having pedal edema is good\n",
        "df['appet'] = df['appet'].replace(to_replace='no',value=0)\n",
        "df['cad'] = df['cad'].replace(to_replace='\\tno',value=0)\n",
        "df['dm'] = df['dm'].replace(to_replace={'\\tno':0,'\\tyes':1,' yes':1, '':np.nan})\n",
        "df.drop('id',axis=1,inplace=True)"
      ],
      "metadata": {
        "id": "jDMGRiYId_Yh"
      },
      "execution_count": null,
      "outputs": []
    },
    {
      "cell_type": "code",
      "source": [
        "df.head()"
      ],
      "metadata": {
        "id": "m5iQ5sQqeINr"
      },
      "execution_count": null,
      "outputs": []
    },
    {
      "cell_type": "code",
      "source": [
        "df2 = df.dropna(axis=0)\n",
        "df2['class'].value_counts()"
      ],
      "metadata": {
        "id": "rl8nXI0_eO34"
      },
      "execution_count": null,
      "outputs": []
    },
    {
      "cell_type": "code",
      "source": [
        "corr_df = df2.corr()\n",
        "\n",
        "# Generate a mask for the upper triangle\n",
        "mask = np.zeros_like(corr_df, dtype=np.bool)\n",
        "mask[np.triu_indices_from(mask)] = True\n",
        "\n",
        "# Set up the matplotlib figure\n",
        "f, ax = plt.subplots(figsize=(11, 9))\n",
        "\n",
        "# Generate a custom diverging colormap\n",
        "cmap = sns.diverging_palette(220, 10, as_cmap=True)\n",
        "\n",
        "# Draw the heatmap with the mask and correct aspect ratio\n",
        "sns.heatmap(corr_df, mask=mask, cmap=cmap, vmax=.3, center=0,\n",
        "            square=True, linewidths=.5, cbar_kws={\"shrink\": .5})\n",
        "plt.title('Correlations between different predictors')\n",
        "plt.show()"
      ],
      "metadata": {
        "id": "hH56gGUPeTmK"
      },
      "execution_count": null,
      "outputs": []
    },
    {
      "cell_type": "code",
      "source": [
        "X_train, X_test, y_train, y_test = train_test_split(df2.iloc[:,:-1], df2['class'], \n",
        "                                                    test_size = 0.33, random_state=44,\n",
        "                                                   stratify= df2['class'] )"
      ],
      "metadata": {
        "id": "GLLyeoedeYlg"
      },
      "execution_count": null,
      "outputs": []
    },
    {
      "cell_type": "code",
      "source": [
        "print(X_train.shape)\n",
        "print(X_test.shape)"
      ],
      "metadata": {
        "id": "KqcMNvu9e3eZ"
      },
      "execution_count": null,
      "outputs": []
    },
    {
      "cell_type": "code",
      "source": [
        "y_train.value_counts()"
      ],
      "metadata": {
        "id": "uBFrnb95e69p"
      },
      "execution_count": null,
      "outputs": []
    },
    {
      "cell_type": "code",
      "source": [
        "tuned_parameters = [{'n_estimators':[7,8,9,10,11,12,13,14,15,16],'max_depth':[2,3,4,5,6,None],\n",
        "                     'class_weight':[None,{0: 0.33,1:0.67},'balanced'],'random_state':[42]}]\n",
        "clf = GridSearchCV(RandomForestClassifier(), tuned_parameters, cv=10,scoring='f1')\n",
        "clf.fit(X_train, y_train)\n",
        "\n",
        "print(\"Detailed classification report:\")\n",
        "y_true, lr_pred = y_test, clf.predict(X_test)\n",
        "print(classification_report(y_true, lr_pred))\n",
        "\n",
        "confusion = confusion_matrix(y_test, lr_pred)\n",
        "print('Confusion Matrix:')\n",
        "print(confusion)\n",
        "\n",
        "# Determine the false positive and true positive rates\n",
        "fpr,tpr,roc_auc = auc_scorer(clf, X_test, y_test, 'RF')\n",
        "\n",
        "print('Best parameters:')\n",
        "print(clf.best_params_)\n",
        "clf_best = clf.best_estimator_"
      ],
      "metadata": {
        "id": "_fICdGnifDLA"
      },
      "execution_count": null,
      "outputs": []
    },
    {
      "cell_type": "code",
      "source": [
        "plt.figure(figsize=(12,3))\n",
        "features = X_test.columns.values.tolist()\n",
        "importance = clf_best.feature_importances_.tolist()\n",
        "feature_series = pd.Series(data=importance,index=features)\n",
        "feature_series.plot.bar()\n",
        "plt.title('Feature Importance')"
      ],
      "metadata": {
        "id": "X21lVL-CfJUh"
      },
      "execution_count": null,
      "outputs": []
    },
    {
      "cell_type": "code",
      "source": [
        "list_to_fill = X_test.columns[feature_series>0]\n",
        "print(list_to_fill)"
      ],
      "metadata": {
        "id": "wsoEkzoSfVFo"
      },
      "execution_count": null,
      "outputs": []
    },
    {
      "cell_type": "code",
      "source": [
        "corr_df = pd.isnull(df).corr()\n",
        "\n",
        "# Generate a mask for the upper triangle\n",
        "mask = np.zeros_like(corr_df, dtype=np.bool)\n",
        "mask[np.triu_indices_from(mask)] = True\n",
        "\n",
        "# Set up the matplotlib figure\n",
        "f, ax = plt.subplots(figsize=(11, 9))\n",
        "\n",
        "# Generate a custom diverging colormap\n",
        "cmap = sns.diverging_palette(220, 10, as_cmap=True)\n",
        "\n",
        "# Draw the heatmap with the mask and correct aspect ratio\n",
        "sns.heatmap(corr_df, mask=mask, cmap=cmap, vmax=.3, center=0,\n",
        "            square=True, linewidths=.5, cbar_kws={\"shrink\": .5})\n",
        "plt.show()"
      ],
      "metadata": {
        "id": "X8VxHqJ9fZbw"
      },
      "execution_count": null,
      "outputs": []
    },
    {
      "cell_type": "code",
      "source": [
        "df2 = df.dropna(axis=0)\n",
        "no_na = df2.index.tolist()\n",
        "some_na = df.drop(no_na).apply(lambda x: pd.to_numeric(x,errors='coerce'))\n",
        "some_na = some_na.fillna(0) # Fill up all Nan by zero.\n",
        "\n",
        "X_test = some_na.iloc[:,:-1]\n",
        "y_test = some_na['class']\n",
        "y_true = y_test\n",
        "lr_pred = clf_best.predict(X_test)\n",
        "print(classification_report(y_true, lr_pred))\n",
        "\n",
        "confusion = confusion_matrix(y_test, lr_pred)\n",
        "print('Confusion Matrix:')\n",
        "print(confusion)\n",
        "\n",
        "print('Accuracy: %3f' % accuracy_score(y_true, lr_pred))\n",
        "# Determine the false positive and true positive rates\n",
        "fpr,tpr,roc_auc = auc_scorer(clf_best, X_test, y_test, 'RF')\n",
        " "
      ],
      "metadata": {
        "id": "c50r6u5Yfdzv"
      },
      "execution_count": null,
      "outputs": []
    }
  ]
}